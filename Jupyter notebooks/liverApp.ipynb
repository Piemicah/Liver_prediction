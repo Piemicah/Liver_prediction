{
 "cells": [
  {
   "cell_type": "code",
   "execution_count": 3,
   "id": "8d0a4918-1eec-42dd-b9a4-b9b413d1f97f",
   "metadata": {
    "tags": []
   },
   "outputs": [
    {
     "ename": "ModuleNotFoundError",
     "evalue": "No module named 'PyQt5'",
     "output_type": "error",
     "traceback": [
      "\u001b[0;31m---------------------------------------------------------------------------\u001b[0m",
      "\u001b[0;31mModuleNotFoundError\u001b[0m                       Traceback (most recent call last)",
      "\u001b[1;32m/workspaces/Liver_prediction/Jupyter notebooks/liverApp.ipynb Cell 1\u001b[0m line \u001b[0;36m3\n\u001b[1;32m      <a href='vscode-notebook-cell://codespaces%2Bglowing-dollop-wjpxw76qvvrc9vq4/workspaces/Liver_prediction/Jupyter%20notebooks/liverApp.ipynb#W0sdnNjb2RlLXJlbW90ZQ%3D%3D?line=0'>1</a>\u001b[0m \u001b[39mimport\u001b[39;00m \u001b[39mjoblib\u001b[39;00m\n\u001b[1;32m      <a href='vscode-notebook-cell://codespaces%2Bglowing-dollop-wjpxw76qvvrc9vq4/workspaces/Liver_prediction/Jupyter%20notebooks/liverApp.ipynb#W0sdnNjb2RlLXJlbW90ZQ%3D%3D?line=1'>2</a>\u001b[0m \u001b[39mimport\u001b[39;00m \u001b[39msys\u001b[39;00m\n\u001b[0;32m----> <a href='vscode-notebook-cell://codespaces%2Bglowing-dollop-wjpxw76qvvrc9vq4/workspaces/Liver_prediction/Jupyter%20notebooks/liverApp.ipynb#W0sdnNjb2RlLXJlbW90ZQ%3D%3D?line=2'>3</a>\u001b[0m \u001b[39mfrom\u001b[39;00m \u001b[39mPyQt5\u001b[39;00m \u001b[39mimport\u001b[39;00m QtWidgets, uic\n\u001b[1;32m      <a href='vscode-notebook-cell://codespaces%2Bglowing-dollop-wjpxw76qvvrc9vq4/workspaces/Liver_prediction/Jupyter%20notebooks/liverApp.ipynb#W0sdnNjb2RlLXJlbW90ZQ%3D%3D?line=3'>4</a>\u001b[0m \u001b[39mfrom\u001b[39;00m \u001b[39mPyQt5\u001b[39;00m\u001b[39m.\u001b[39;00m\u001b[39mQtWidgets\u001b[39;00m \u001b[39mimport\u001b[39;00m \u001b[39m*\u001b[39m\n",
      "\u001b[0;31mModuleNotFoundError\u001b[0m: No module named 'PyQt5'"
     ]
    }
   ],
   "source": [
    "import joblib\n",
    "import sys\n",
    "from PyQt5 import QtWidgets, uic\n",
    "from PyQt5.QtWidgets import *"
   ]
  },
  {
   "cell_type": "code",
   "execution_count": 3,
   "id": "2d364486-d53d-4f1a-ba92-8a25bac26061",
   "metadata": {
    "tags": []
   },
   "outputs": [],
   "source": [
    "model = joblib.load('liver_predictor.joblib')"
   ]
  },
  {
   "cell_type": "code",
   "execution_count": 4,
   "id": "825320ff-65f6-4b7f-9713-7eb9f54faa57",
   "metadata": {
    "tags": []
   },
   "outputs": [],
   "source": [
    "def predict(a):\n",
    "    r=model.predict(a)\n",
    "    if r[0]==1: return 'Have Liver Problem'\n",
    "    else: return 'No Liver Problem'"
   ]
  },
  {
   "cell_type": "code",
   "execution_count": 5,
   "id": "1dcb6708-b495-499d-b380-53cf65de1c46",
   "metadata": {
    "tags": []
   },
   "outputs": [],
   "source": [
    "def predictHandler():\n",
    "    tb=window.tbField.text()\n",
    "    db=window.dbField.text()\n",
    "    alkphos=window.alkphosField.text()\n",
    "    sgpt=window.sgptField.text()\n",
    "    sgot=window.sgotField.text()\n",
    "    protein=window.proteinField.text()\n",
    "    albumin=window.albuminField.text()\n",
    "    ratio=window.ratioField.text()\n",
    "    try:\n",
    "        p=predict([[tb,db,alkphos,sgpt,sgot,protein,albumin,ratio]])\n",
    "        result=window.resultLabel.setText(p)\n",
    "    except:\n",
    "        msg = QMessageBox()\n",
    "        msg.setIcon(QMessageBox.Critical)\n",
    "        msg.setText(\"Wrong value has been entered\")\n",
    "        msg.setWindowTitle(\"Error\")\n",
    "        msg.exec_()"
   ]
  },
  {
   "cell_type": "code",
   "execution_count": 6,
   "id": "e0658b1f-471d-46be-80f0-60240ecf873f",
   "metadata": {
    "tags": []
   },
   "outputs": [],
   "source": [
    "def aboutHandler():\n",
    "    msg = QMessageBox()\n",
    "    msg.setIcon(QMessageBox.Information)\n",
    "    msg.setWindowTitle(\"Liver Disease Prediction\")\n",
    "    msg.setText(\"Piemicah Institutes. nuges1.62@gmail.com\")\n",
    "    msg.exec_()"
   ]
  },
  {
   "cell_type": "code",
   "execution_count": 7,
   "id": "c6357798-6042-4a87-a31a-c51bb468a278",
   "metadata": {
    "tags": []
   },
   "outputs": [
    {
     "name": "stderr",
     "output_type": "stream",
     "text": [
      "C:\\Users\\Piemicah\\anaconda3\\Lib\\site-packages\\sklearn\\base.py:464: UserWarning: X does not have valid feature names, but DecisionTreeClassifier was fitted with feature names\n",
      "  warnings.warn(\n"
     ]
    },
    {
     "data": {
      "text/plain": [
       "0"
      ]
     },
     "execution_count": 7,
     "metadata": {},
     "output_type": "execute_result"
    }
   ],
   "source": [
    "app = QtWidgets.QApplication(sys.argv)\n",
    "window = uic.loadUi(\"liver.ui\")\n",
    "window.setFixedSize(820,650)\n",
    "window.btnPredict.clicked.connect(predictHandler)\n",
    "window.actionAbout.triggered.connect(aboutHandler)\n",
    "\n",
    "window.show()\n",
    "app.exec_()"
   ]
  },
  {
   "cell_type": "code",
   "execution_count": null,
   "id": "cd831370-069c-4929-a746-f8f3ce9b3f4f",
   "metadata": {},
   "outputs": [],
   "source": []
  }
 ],
 "metadata": {
  "kernelspec": {
   "display_name": "Python 3 (ipykernel)",
   "language": "python",
   "name": "python3"
  },
  "language_info": {
   "codemirror_mode": {
    "name": "ipython",
    "version": 3
   },
   "file_extension": ".py",
   "mimetype": "text/x-python",
   "name": "python",
   "nbconvert_exporter": "python",
   "pygments_lexer": "ipython3",
   "version": "3.10.8"
  }
 },
 "nbformat": 4,
 "nbformat_minor": 5
}
